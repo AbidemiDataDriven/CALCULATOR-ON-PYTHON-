{
 "cells": [
  {
   "cell_type": "markdown",
   "id": "d1a617e7",
   "metadata": {},
   "source": [
    "# A simple calculator in Python"
   ]
  },
  {
   "cell_type": "markdown",
   "id": "c240287f",
   "metadata": {},
   "source": [
    "Python as a calculator\n",
    "Python is perfectly suited to do basic calculations. It can do addition, subtraction, multiplication and division."
   ]
  },
  {
   "cell_type": "code",
   "execution_count": 1,
   "id": "d9b77def",
   "metadata": {},
   "outputs": [
    {
     "name": "stdout",
     "output_type": "stream",
     "text": [
      "Select operation.\n",
      "1. Add\n",
      "2. Subtract\n",
      "3. Multiply\n",
      "4. Divide\n",
      "Enter choice (1/2/3/4): 3\n",
      "Enter first number: 4\n",
      "Enter second number: 2\n",
      "4.0 * 2.0 = 8.0\n"
     ]
    }
   ],
   "source": [
    "\n",
    "\n",
    "# Define the function for each operation\n",
    "def add(x, y):\n",
    "    return x + y\n",
    "\n",
    "def subtract(x, y):\n",
    "    return x - y\n",
    "\n",
    "def multiply(x, y):\n",
    "    return x * y\n",
    "\n",
    "def divide(x, y):\n",
    "    return x / y\n",
    "\n",
    "# Display the menu options\n",
    "print(\"Select operation.\")\n",
    "print(\"1. Add\")\n",
    "print(\"2. Subtract\")\n",
    "print(\"3. Multiply\")\n",
    "print(\"4. Divide\")\n",
    "\n",
    "# Take user input\n",
    "choice = input(\"Enter choice (1/2/3/4): \")\n",
    "\n",
    "num1 = float(input(\"Enter first number: \"))\n",
    "num2 = float(input(\"Enter second number: \"))\n",
    "\n",
    "# Perform operation based on user choice using if, elif statement\n",
    "if choice == '1':\n",
    "    print(num1, \"+\", num2, \"=\", add(num1,num2))\n",
    "\n",
    "elif choice == '2':\n",
    "    print(num1, \"-\", num2, \"=\", subtract(num1,num2))\n",
    "\n",
    "elif choice == '3':\n",
    "    print(num1, \"*\", num2, \"=\", multiply(num1,num2))\n",
    "\n",
    "elif choice == '4':\n",
    "    print(num1, \"/\", num2, \"=\", divide(num1,num2))\n",
    "\n",
    "else:\n",
    "    print(\"Invalid input\")"
   ]
  }
 ],
 "metadata": {
  "kernelspec": {
   "display_name": "Python 3 (ipykernel)",
   "language": "python",
   "name": "python3"
  },
  "language_info": {
   "codemirror_mode": {
    "name": "ipython",
    "version": 3
   },
   "file_extension": ".py",
   "mimetype": "text/x-python",
   "name": "python",
   "nbconvert_exporter": "python",
   "pygments_lexer": "ipython3",
   "version": "3.9.13"
  }
 },
 "nbformat": 4,
 "nbformat_minor": 5
}
